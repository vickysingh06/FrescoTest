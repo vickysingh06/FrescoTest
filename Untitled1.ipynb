{
 "cells": [
  {
   "cell_type": "code",
   "execution_count": 11,
   "metadata": {},
   "outputs": [
    {
     "name": "stdout",
     "output_type": "stream",
     "text": [
      "Enter the string: hbdjahaaa\n",
      "hbdja\n"
     ]
    }
   ],
   "source": [
    "def duplicateremover(sent, n):\n",
    "      \n",
    "    # index in the modified string\n",
    "    idx = 0\n",
    "      \n",
    "    # Traversing all characters\n",
    "    for i in range(0, n):\n",
    "          \n",
    "        # Check if character is present before it \n",
    "        for j in range(0, i + 1):\n",
    "            if (sent[i] == sent[j]):\n",
    "                break\n",
    "                  \n",
    "        # If not present, then add it to result\n",
    "        \n",
    "        if (j == i):\n",
    "            sent[idx] = sent[i]\n",
    "            idx += 1\n",
    "              \n",
    "    return \"\".join(sent[:idx])\n",
    "  \n",
    "# Main Code\n",
    "sent = input(\"Enter the string: \")\n",
    "n = len(sent)\n",
    "print(duplicateremover(list(sent), n))"
   ]
  },
  {
   "cell_type": "code",
   "execution_count": 2,
   "metadata": {},
   "outputs": [
    {
     "ename": "KeyError",
     "evalue": "'OUTPUT_PATH'",
     "output_type": "error",
     "traceback": [
      "\u001b[0;31m---------------------------------------------------------------------------\u001b[0m",
      "\u001b[0;31mKeyError\u001b[0m                                  Traceback (most recent call last)",
      "\u001b[0;32m<ipython-input-2-fd70ccaf618a>\u001b[0m in \u001b[0;36m<module>\u001b[0;34m\u001b[0m\n\u001b[1;32m      1\u001b[0m \u001b[0;32mimport\u001b[0m \u001b[0mos\u001b[0m\u001b[0;34m\u001b[0m\u001b[0;34m\u001b[0m\u001b[0m\n\u001b[1;32m      2\u001b[0m \u001b[0;32mif\u001b[0m \u001b[0m__name__\u001b[0m \u001b[0;34m==\u001b[0m \u001b[0;34m'__main__'\u001b[0m\u001b[0;34m:\u001b[0m\u001b[0;34m\u001b[0m\u001b[0;34m\u001b[0m\u001b[0m\n\u001b[0;32m----> 3\u001b[0;31m     \u001b[0mfptr\u001b[0m \u001b[0;34m=\u001b[0m \u001b[0mopen\u001b[0m\u001b[0;34m(\u001b[0m\u001b[0mos\u001b[0m\u001b[0;34m.\u001b[0m\u001b[0menviron\u001b[0m\u001b[0;34m[\u001b[0m\u001b[0;34m'OUTPUT_PATH'\u001b[0m\u001b[0;34m]\u001b[0m\u001b[0;34m,\u001b[0m \u001b[0;34m'w'\u001b[0m\u001b[0;34m)\u001b[0m\u001b[0;34m\u001b[0m\u001b[0;34m\u001b[0m\u001b[0m\n\u001b[0m\u001b[1;32m      4\u001b[0m \u001b[0;34m\u001b[0m\u001b[0m\n\u001b[1;32m      5\u001b[0m     \u001b[0mallLocations_rows\u001b[0m \u001b[0;34m=\u001b[0m \u001b[0mint\u001b[0m\u001b[0;34m(\u001b[0m\u001b[0minput\u001b[0m\u001b[0;34m(\u001b[0m\u001b[0;34m)\u001b[0m\u001b[0;34m.\u001b[0m\u001b[0mstrip\u001b[0m\u001b[0;34m(\u001b[0m\u001b[0;34m)\u001b[0m\u001b[0;34m)\u001b[0m\u001b[0;34m\u001b[0m\u001b[0;34m\u001b[0m\u001b[0m\n",
      "\u001b[0;32m/opt/anaconda3/lib/python3.8/os.py\u001b[0m in \u001b[0;36m__getitem__\u001b[0;34m(self, key)\u001b[0m\n\u001b[1;32m    673\u001b[0m         \u001b[0;32mexcept\u001b[0m \u001b[0mKeyError\u001b[0m\u001b[0;34m:\u001b[0m\u001b[0;34m\u001b[0m\u001b[0;34m\u001b[0m\u001b[0m\n\u001b[1;32m    674\u001b[0m             \u001b[0;31m# raise KeyError with the original key value\u001b[0m\u001b[0;34m\u001b[0m\u001b[0;34m\u001b[0m\u001b[0;34m\u001b[0m\u001b[0m\n\u001b[0;32m--> 675\u001b[0;31m             \u001b[0;32mraise\u001b[0m \u001b[0mKeyError\u001b[0m\u001b[0;34m(\u001b[0m\u001b[0mkey\u001b[0m\u001b[0;34m)\u001b[0m \u001b[0;32mfrom\u001b[0m \u001b[0;32mNone\u001b[0m\u001b[0;34m\u001b[0m\u001b[0;34m\u001b[0m\u001b[0m\n\u001b[0m\u001b[1;32m    676\u001b[0m         \u001b[0;32mreturn\u001b[0m \u001b[0mself\u001b[0m\u001b[0;34m.\u001b[0m\u001b[0mdecodevalue\u001b[0m\u001b[0;34m(\u001b[0m\u001b[0mvalue\u001b[0m\u001b[0;34m)\u001b[0m\u001b[0;34m\u001b[0m\u001b[0;34m\u001b[0m\u001b[0m\n\u001b[1;32m    677\u001b[0m \u001b[0;34m\u001b[0m\u001b[0m\n",
      "\u001b[0;31mKeyError\u001b[0m: 'OUTPUT_PATH'"
     ]
    }
   ],
   "source": []
  },
  {
   "cell_type": "code",
   "execution_count": 7,
   "metadata": {},
   "outputs": [
    {
     "name": "stdout",
     "output_type": "stream",
     "text": [
      "Enter the string: jhvbkv\n"
     ]
    },
    {
     "ename": "TypeError",
     "evalue": "'str' object does not support item assignment",
     "output_type": "error",
     "traceback": [
      "\u001b[0;31m---------------------------------------------------------------------------\u001b[0m",
      "\u001b[0;31mTypeError\u001b[0m                                 Traceback (most recent call last)",
      "\u001b[0;32m<ipython-input-7-c37c926b1db0>\u001b[0m in \u001b[0;36m<module>\u001b[0;34m\u001b[0m\n\u001b[1;32m     10\u001b[0m     \u001b[0;31m# result.\u001b[0m\u001b[0;34m\u001b[0m\u001b[0;34m\u001b[0m\u001b[0;34m\u001b[0m\u001b[0m\n\u001b[1;32m     11\u001b[0m     \u001b[0;32mif\u001b[0m \u001b[0;34m(\u001b[0m\u001b[0mj\u001b[0m \u001b[0;34m==\u001b[0m \u001b[0mi\u001b[0m\u001b[0;34m)\u001b[0m\u001b[0;34m:\u001b[0m\u001b[0;34m\u001b[0m\u001b[0;34m\u001b[0m\u001b[0m\n\u001b[0;32m---> 12\u001b[0;31m         \u001b[0mstr\u001b[0m\u001b[0;34m[\u001b[0m\u001b[0midx\u001b[0m\u001b[0;34m]\u001b[0m \u001b[0;34m=\u001b[0m \u001b[0mstr\u001b[0m\u001b[0;34m[\u001b[0m\u001b[0mi\u001b[0m\u001b[0;34m]\u001b[0m\u001b[0;34m\u001b[0m\u001b[0;34m\u001b[0m\u001b[0m\n\u001b[0m\u001b[1;32m     13\u001b[0m         \u001b[0midx\u001b[0m \u001b[0;34m+=\u001b[0m \u001b[0;36m1\u001b[0m\u001b[0;34m\u001b[0m\u001b[0;34m\u001b[0m\u001b[0m\n\u001b[1;32m     14\u001b[0m \u001b[0mprint\u001b[0m\u001b[0;34m(\u001b[0m\u001b[0mremoveDuplicate\u001b[0m\u001b[0;34m(\u001b[0m\u001b[0mlist\u001b[0m\u001b[0;34m(\u001b[0m\u001b[0mstr\u001b[0m\u001b[0;34m)\u001b[0m\u001b[0;34m,\u001b[0m \u001b[0mn\u001b[0m\u001b[0;34m)\u001b[0m\u001b[0;34m)\u001b[0m\u001b[0;34m\u001b[0m\u001b[0;34m\u001b[0m\u001b[0m\n",
      "\u001b[0;31mTypeError\u001b[0m: 'str' object does not support item assignment"
     ]
    }
   ],
   "source": [
    "s = input(\"Enter the string: \")\n",
    "n = len(str)\n",
    "idx = 0\n",
    "for i in range(0, n):\n",
    "    # Check if str[i] is present before it \n",
    "    for j in range(0, i + 1):\n",
    "        if (str[i] == str[j]):\n",
    "            break\n",
    "    # If not present, then add it to\n",
    "    # result.\n",
    "    if (j == i):\n",
    "        str[idx] = str[i]\n",
    "        idx += 1\n",
    "print(removeDuplicate(list(str), n))"
   ]
  },
  {
   "cell_type": "code",
   "execution_count": 36,
   "metadata": {},
   "outputs": [
    {
     "name": "stdout",
     "output_type": "stream",
     "text": [
      "Enter the email: x\n",
      "Invalid Email\n",
      "Enter the url: https://www.google.com\n",
      "Valid URL\n"
     ]
    }
   ],
   "source": [
    "import re\n",
    "\n",
    "def check(email):\n",
    "    # Make a regular expression\n",
    "    # for validating an Email\n",
    "    regex = '^(\\w|\\.|\\_|\\-)+[@](\\w|\\_|\\-|\\.)+[.]\\w{2,3}$'\n",
    "    if (email == None):\n",
    "        print(\"InValid Input\")\n",
    "    # Define a function for\n",
    "    # for validating an Email \n",
    "    # pass the regular expression\n",
    "    # and the string in search() method\n",
    "    if(re.search(regex, email)):\n",
    "        print(\"Valid Email\")\n",
    " \n",
    "    else:\n",
    "        print(\"Invalid Email\") \n",
    "\n",
    "\n",
    "def isValidURL(str):\n",
    "    \n",
    "    # Regex to check valid URL\n",
    "    regex = (\"((http|https)://)(www.)?\" +\n",
    "             \"[a-zA-Z0-9@:%._\\\\+~#?&//=]\" +\n",
    "             \"{2,256}\\\\.[a-z]\" +\n",
    "             \"{2,6}\\\\b([-a-zA-Z0-9@:%\" +\n",
    "             \"._\\\\+~#?&//=]*)\")\n",
    "     \n",
    "    # Compile the ReGex\n",
    "    p = re.compile(regex)\n",
    " \n",
    "    # If the string is empty\n",
    "    # return false\n",
    "    if (str == None):\n",
    "        print(\"InValid Input\")\n",
    " \n",
    "    # Return if the string\n",
    "    # matched the ReGex\n",
    "    if(re.search(p, str)):\n",
    "        print(\"Valid URL\")\n",
    "    else:\n",
    "        print(\"Invalid URL\")\n",
    " \n",
    "# Driver code\n",
    " \n",
    "\n",
    "email = input(\"Enter the email: \")    \n",
    "check(email)\n",
    "\n",
    "url = input(\"Enter the url: \")\n",
    "isValidURL(url)\n",
    "\n",
    "    \n"
   ]
  },
  {
   "cell_type": "code",
   "execution_count": 17,
   "metadata": {},
   "outputs": [
    {
     "name": "stdout",
     "output_type": "stream",
     "text": [
      "Enter the email: singhvicky9.vs@gmail.com \n",
      "Invalid Email\n"
     ]
    }
   ],
   "source": [
    "import re\n",
    "email = input(\"Enter the email: \")   \n",
    "regex = '^(\\w|\\.|\\_|\\-)+[@](\\w|\\_|\\-|\\.)+[.]\\w{2,3}$'\n",
    "if (email == None):\n",
    "    print(\"InValid Input\")\n",
    "# Define a function for\n",
    "# for validating an Email \n",
    "# pass the regular expression\n",
    "# and the string in search() method\n",
    "if(re.search(regex, email)):\n",
    "    print(\"Valid Email\")\n",
    "\n",
    "else:\n",
    "    print(\"Invalid Email\") \n"
   ]
  },
  {
   "cell_type": "code",
   "execution_count": 16,
   "metadata": {},
   "outputs": [
    {
     "name": "stdout",
     "output_type": "stream",
     "text": [
      "Valid Email\n",
      "Valid Email\n",
      "Invalid Email\n"
     ]
    }
   ],
   "source": [
    "import re\n",
    " \n",
    "# Make a regular expression\n",
    "# for validating an Email\n",
    "regex = '^(\\w|\\.|\\_|\\-)+[@](\\w|\\_|\\-|\\.)+[.]\\w{2,3}$'\n",
    " \n",
    "# Define a function for\n",
    "# for validating an Email\n",
    " \n",
    " \n",
    "def check(email):\n",
    " \n",
    "    # pass the regular expression\n",
    "    # and the string in search() method\n",
    "    if(re.search(regex, email)):\n",
    "        print(\"Valid Email\")\n",
    " \n",
    "    else:\n",
    "        print(\"Invalid Email\")\n",
    " \n",
    " \n",
    "# Driver Code\n",
    "if __name__ == '__main__':\n",
    " \n",
    "    # Enter the email\n",
    "    email = \"ankitrai326@gmail.com\"\n",
    " \n",
    "    # calling run function\n",
    "    check(email)\n",
    " \n",
    "    email = \"my.ownsite@our-earth.org\"\n",
    "    check(email)\n",
    " \n",
    "    email = \"ankitrai326.com\"\n",
    "    check(email)"
   ]
  },
  {
   "cell_type": "code",
   "execution_count": 41,
   "metadata": {},
   "outputs": [
    {
     "name": "stdout",
     "output_type": "stream",
     "text": [
      "Enter the email: singhvicky9.vs@gmail.com\n",
      "Valid Email\n",
      "Enter the url: https://www.google.com\n",
      "Valid URL\n"
     ]
    }
   ],
   "source": [
    "import re\n",
    "# for email check\n",
    "email = input(\"Enter the email: \")  \n",
    "expr = '^(\\w|\\.|\\_|\\-)+[@](\\w|\\_|\\-|\\.)+[.]\\w{2,3}$'\n",
    "if(re.search(expr, email)):\n",
    "        print(\"Valid Email\")\n",
    "else:\n",
    "    print(\"Invalid Email\")\n",
    "    \n",
    "    \n",
    "# for URL check\n",
    "str = input(\"Enter the url: \")\n",
    "expr = (\"((http|https)://)(www.)?\" +\"[a-zA-Z0-9@:%._\\\\+~#?&//=]\" +\"{2,256}\\\\.[a-z]\" +\"{2,6}\\\\b([-a-zA-Z0-9@:%\" +\"._\\\\+~#?&//=]*)\")\n",
    "p = re.compile(expr)\n",
    "if (str == None):\n",
    "    print(\"InValid Input\")\n",
    "if(re.search(p, str)):\n",
    "    print(\"Valid URL\")\n",
    "else:\n",
    "    print(\"InValid URL\")\n",
    " "
   ]
  },
  {
   "cell_type": "code",
   "execution_count": 39,
   "metadata": {},
   "outputs": [
    {
     "name": "stdout",
     "output_type": "stream",
     "text": [
      "Enter the url: https://www.google.com\n",
      "Valid URL\n"
     ]
    }
   ],
   "source": []
  },
  {
   "cell_type": "code",
   "execution_count": null,
   "metadata": {},
   "outputs": [],
   "source": []
  },
  {
   "cell_type": "code",
   "execution_count": 50,
   "metadata": {},
   "outputs": [
    {
     "name": "stdout",
     "output_type": "stream",
     "text": [
      "enter space separated array1 2 3 8 9\n",
      "Enter start value : 1\n",
      "Enter end value : 5\n",
      "Missing elements :4 5 "
     ]
    }
   ],
   "source": [
    "def print_missing_elements(arr, n, start, end):\n",
    "    s = set(arr)\n",
    "    for x in range(start, end + 1):\n",
    "        if x not in s:\n",
    "            print(x, end = \" \")\n",
    "\n",
    "\n",
    "lst = []\n",
    "lst=[int(i) for i in input(\"enter space separated array\").split()]\n",
    "# number of elemetns as input\n",
    "n = len(lst)\n",
    "  \n",
    "\n",
    "\n",
    "start = int(input(\"Enter start value : \"))\n",
    "end = int(input(\"Enter end value : \"))\n",
    "\n",
    "print(\"Missing elements :\",end=\"\")\n",
    "print_missing_elements(lst, n, start, end)"
   ]
  },
  {
   "cell_type": "code",
   "execution_count": 48,
   "metadata": {},
   "outputs": [
    {
     "name": "stdout",
     "output_type": "stream",
     "text": [
      "3 4 5 6\n"
     ]
    },
    {
     "data": {
      "text/plain": [
       "4"
      ]
     },
     "execution_count": 48,
     "metadata": {},
     "output_type": "execute_result"
    }
   ],
   "source": [
    "lst=[int(i) for i in input().split()]\n",
    "len(lst)\n"
   ]
  },
  {
   "cell_type": "code",
   "execution_count": 51,
   "metadata": {},
   "outputs": [
    {
     "name": "stdout",
     "output_type": "stream",
     "text": [
      "enter space separated array1 2 3 8 9\n",
      "Enter start value : 1\n",
      "Enter end value : 5\n",
      "Missing elements :4 5 "
     ]
    }
   ],
   "source": [
    "lst = []\n",
    "lst=[int(i) for i in input(\"enter space separated array\").split()]\n",
    "n = len(lst)\n",
    "start = int(input(\"Enter start value : \"))\n",
    "end = int(input(\"Enter end value : \"))\n",
    "print(\"Missing elements :\",end=\"\")\n",
    "s = set(lst)\n",
    "for x in range(start, end + 1):  \n",
    "    if x not in s:\n",
    "        print(x, end = \" \")"
   ]
  },
  {
   "cell_type": "code",
   "execution_count": 53,
   "metadata": {},
   "outputs": [
    {
     "name": "stdout",
     "output_type": "stream",
     "text": [
      "A\n"
     ]
    }
   ],
   "source": [
    "if[[]]:print(\"A\")"
   ]
  },
  {
   "cell_type": "code",
   "execution_count": 54,
   "metadata": {},
   "outputs": [
    {
     "name": "stdout",
     "output_type": "stream",
     "text": [
      "0\n",
      "1\n",
      "0\n",
      "4\n",
      "0\n",
      "64\n"
     ]
    }
   ],
   "source": [
    "def rec(i,n=0):\n",
    "    if n<=50:\n",
    "        print(n)\n",
    "        rec(n+n,i*i)\n",
    "    else:\n",
    "        print(n)\n",
    "rec(1)"
   ]
  },
  {
   "cell_type": "code",
   "execution_count": 61,
   "metadata": {},
   "outputs": [
    {
     "name": "stdout",
     "output_type": "stream",
     "text": [
      "2\n",
      "add shubham\n",
      "find kamles\n",
      "0\n"
     ]
    }
   ],
   "source": [
    "word_dic = {}\n",
    "found =[]\n",
    "for i in range(int(input())):\n",
    " \n",
    "    s = ''\n",
    "    command = input().split()\n",
    "    if command[0] == 'add':\n",
    "        for i in command[1]:\n",
    "            s = s + i\n",
    "            if s in word_dic:\n",
    "                word_dic[s] = word_dic[s] + 1\n",
    "            else:\n",
    "                word_dic[s] = 1\n",
    " \n",
    " \n",
    " \n",
    "    else:\n",
    "        if command[1] in word_dic:\n",
    "            found.append(word_dic[command[1]])\n",
    " \n",
    "        else:\n",
    "            found.append(0)\n",
    " \n",
    "for i in found:\n",
    "    print(i)"
   ]
  },
  {
   "cell_type": "code",
   "execution_count": 65,
   "metadata": {},
   "outputs": [
    {
     "name": "stdout",
     "output_type": "stream",
     "text": [
      "No. of steps required  to reach  12  is  7\n"
     ]
    }
   ],
   "source": [
    "import sys\n",
    " \n",
    "\n",
    "def steps(source, step, dest):\n",
    "     \n",
    "\n",
    "    \n",
    " \n",
    "    # minimum of both cases\n",
    "    \n",
    "     \n",
    " \n",
    "# Driver Code\n",
    "dest = 12;\n",
    "print(\"No. of steps required\",\n",
    "               \" to reach \" ,dest ,\n",
    "        \" is \" , steps(0, 0, dest));"
   ]
  },
  {
   "cell_type": "code",
   "execution_count": 69,
   "metadata": {},
   "outputs": [
    {
     "ename": "TypeError",
     "evalue": "unsupported operand type(s) for +: 'int' and 'list'",
     "output_type": "error",
     "traceback": [
      "\u001b[0;31m---------------------------------------------------------------------------\u001b[0m",
      "\u001b[0;31mTypeError\u001b[0m                                 Traceback (most recent call last)",
      "\u001b[0;32m<ipython-input-69-194d85a5a237>\u001b[0m in \u001b[0;36m<module>\u001b[0;34m\u001b[0m\n\u001b[1;32m     10\u001b[0m \u001b[0;34m\u001b[0m\u001b[0m\n\u001b[1;32m     11\u001b[0m \u001b[0;34m\u001b[0m\u001b[0m\n\u001b[0;32m---> 12\u001b[0;31m pos = steps(source + step + 1,\n\u001b[0m\u001b[1;32m     13\u001b[0m                 step + 1, dest)\n\u001b[1;32m     14\u001b[0m \u001b[0;34m\u001b[0m\u001b[0m\n",
      "\u001b[0;31mTypeError\u001b[0m: unsupported operand type(s) for +: 'int' and 'list'"
     ]
    }
   ],
   "source": [
    "import sys\n",
    "dest = 12;\n",
    "source=0\n",
    "step=[1,2,3,4,5]\n",
    "if (abs(source) > (dest)) :\n",
    "        print( sys.maxsize)\n",
    "     \n",
    "if (source == dest):\n",
    "    print( step)\n",
    "\n",
    "\n",
    "pos = steps(source + step + 1,\n",
    "                step + 1, dest)\n",
    "\n",
    "# if we go on negative side\n",
    "neg = steps(source - step - 1,\n",
    "                step + 1, dest)\n",
    "print( min(pos, neg))"
   ]
  },
  {
   "cell_type": "code",
   "execution_count": 95,
   "metadata": {},
   "outputs": [
    {
     "name": "stdout",
     "output_type": "stream",
     "text": [
      "12\n",
      "3\n"
     ]
    }
   ],
   "source": [
    "dest = int(input())\n",
    "curpos=0\n",
    "step=[1,2,3,4,5]\n",
    "i=4\n",
    "steps=0\n",
    "while not curpos==dest and i>=0:\n",
    "    newpos=curpos+step[i]\n",
    "    #print(newpos)\n",
    "    if(newpos<=dest):\n",
    "        curpos=curpos+step[i]\n",
    "       \n",
    "        steps=steps+1\n",
    "       \n",
    "    else:\n",
    "        i=i-1\n",
    "print(steps)"
   ]
  },
  {
   "cell_type": "code",
   "execution_count": null,
   "metadata": {},
   "outputs": [],
   "source": [
    "arr=[3,1,9,5,2]\n",
    "n=5\n",
    "for i in range(1,n):\n",
    "    j=i-1\n",
    "    while j>0:\n",
    "        if arr[i]<arr[j]\n",
    "        "
   ]
  },
  {
   "cell_type": "code",
   "execution_count": 24,
   "metadata": {},
   "outputs": [
    {
     "ename": "SyntaxError",
     "evalue": "'return' outside function (<ipython-input-24-cb6998d023e2>, line 20)",
     "output_type": "error",
     "traceback": [
      "\u001b[0;36m  File \u001b[0;32m\"<ipython-input-24-cb6998d023e2>\"\u001b[0;36m, line \u001b[0;32m20\u001b[0m\n\u001b[0;31m    return result\u001b[0m\n\u001b[0m    ^\u001b[0m\n\u001b[0;31mSyntaxError\u001b[0m\u001b[0;31m:\u001b[0m 'return' outside function\n"
     ]
    }
   ],
   "source": [
    "def distance(a,b):\n",
    "    dis=(((a[0]-b[0])**2)+((a[1]-b[1])**2))**0.5\n",
    "    return dis\n",
    "\n",
    "allLocations=[[3,6],[2,4],[5,3]]\n",
    "numDeliveries=2\n",
    "lst1=[]\n",
    "for i in range(0,3):\n",
    "    a=[]\n",
    "    actdis=distance([0,0],allLocations[i])\n",
    "    a.append(actdis)\n",
    "    a.append(i)\n",
    "    lst1.append(a)\n",
    "\n",
    "lst1.sort(key=lambda x:x[0])\n",
    "\n",
    "result=[]\n",
    "for i in range(numDeliveries):\n",
    "    result.append(allLocations[lst1[i][1]])\n",
    "return result"
   ]
  },
  {
   "cell_type": "code",
   "execution_count": 7,
   "metadata": {},
   "outputs": [
    {
     "data": {
      "text/plain": [
       "2.0"
      ]
     },
     "execution_count": 7,
     "metadata": {},
     "output_type": "execute_result"
    }
   ],
   "source": [
    "4**0.5"
   ]
  },
  {
   "cell_type": "code",
   "execution_count": 26,
   "metadata": {},
   "outputs": [
    {
     "name": "stdout",
     "output_type": "stream",
     "text": [
      "3\n"
     ]
    }
   ],
   "source": [
    "allLocations=[[3,6],[2,4],[5,3]]\n",
    "print(len(allLocations))"
   ]
  },
  {
   "cell_type": "code",
   "execution_count": 3,
   "metadata": {},
   "outputs": [
    {
     "name": "stdout",
     "output_type": "stream",
     "text": [
      "2\n"
     ]
    }
   ],
   "source": [
    "def count_numbers(k, n) :\n",
    "    if (n == 1) :\n",
    "        if (True) :\n",
    "            return (k - 1)\n",
    "        else :\n",
    "            return 1\n",
    "    if (flag) :\n",
    "        return (k - 1) * (count_numbers(k, n - 1, 0) +\n",
    "                          count_numbers(k, n - 1, 1))\n",
    "    else :\n",
    "        return count_numbers(k, n - 1, 1)\n",
    " \n",
    "# Driver code\n",
    "n = 1\n",
    "k = 3\n",
    "print(count_numbers(k, n))"
   ]
  },
  {
   "cell_type": "code",
   "execution_count": 6,
   "metadata": {},
   "outputs": [
    {
     "data": {
      "text/plain": [
       "['__class__',\n",
       " '__contains__',\n",
       " '__delattr__',\n",
       " '__delitem__',\n",
       " '__dir__',\n",
       " '__doc__',\n",
       " '__eq__',\n",
       " '__format__',\n",
       " '__ge__',\n",
       " '__getattribute__',\n",
       " '__getitem__',\n",
       " '__gt__',\n",
       " '__hash__',\n",
       " '__init__',\n",
       " '__init_subclass__',\n",
       " '__iter__',\n",
       " '__le__',\n",
       " '__len__',\n",
       " '__lt__',\n",
       " '__ne__',\n",
       " '__new__',\n",
       " '__reduce__',\n",
       " '__reduce_ex__',\n",
       " '__repr__',\n",
       " '__reversed__',\n",
       " '__setattr__',\n",
       " '__setitem__',\n",
       " '__sizeof__',\n",
       " '__str__',\n",
       " '__subclasshook__',\n",
       " 'clear',\n",
       " 'copy',\n",
       " 'fromkeys',\n",
       " 'get',\n",
       " 'items',\n",
       " 'keys',\n",
       " 'pop',\n",
       " 'popitem',\n",
       " 'setdefault',\n",
       " 'update',\n",
       " 'values']"
      ]
     },
     "execution_count": 6,
     "metadata": {},
     "output_type": "execute_result"
    }
   ],
   "source": [
    "dir(dict)"
   ]
  },
  {
   "cell_type": "code",
   "execution_count": null,
   "metadata": {},
   "outputs": [],
   "source": []
  }
 ],
 "metadata": {
  "kernelspec": {
   "display_name": "Python 3",
   "language": "python",
   "name": "python3"
  },
  "language_info": {
   "codemirror_mode": {
    "name": "ipython",
    "version": 3
   },
   "file_extension": ".py",
   "mimetype": "text/x-python",
   "name": "python",
   "nbconvert_exporter": "python",
   "pygments_lexer": "ipython3",
   "version": "3.8.5"
  }
 },
 "nbformat": 4,
 "nbformat_minor": 4
}
